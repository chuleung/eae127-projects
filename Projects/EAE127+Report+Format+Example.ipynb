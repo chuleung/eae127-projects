{
 "cells": [
  {
   "cell_type": "markdown",
   "metadata": {},
   "source": [
    "# EAE 127 - Report Formatting"
   ]
  },
  {
   "cell_type": "markdown",
   "metadata": {},
   "source": [
    "Include name for identificaiton"
   ]
  },
  {
   "cell_type": "markdown",
   "metadata": {},
   "source": [
    "### Introduction"
   ]
  },
  {
   "cell_type": "markdown",
   "metadata": {},
   "source": [
    "Give an introduction that breifly describes the purpose of the project and the concepts explored.  This example will describe how to integrate numerically using the trapezoid rule (Modified from Trapezoid Rule example on ipython.org)."
   ]
  },
  {
   "cell_type": "markdown",
   "metadata": {},
   "source": [
    "### Problem 1 - Trapezoid Rule"
   ]
  },
  {
   "cell_type": "markdown",
   "metadata": {},
   "source": [
    "###### Approach"
   ]
  },
  {
   "cell_type": "markdown",
   "metadata": {},
   "source": [
    "For each problem, describe your approach to the solution.  For this example, discrete data points will first be generated from a given function.  The integral of this function will then be approximated by taking the sum of the areas of a distribution of trapezoids bounded by these points."
   ]
  },
  {
   "cell_type": "markdown",
   "metadata": {},
   "source": [
    "###### Equations"
   ]
  },
  {
   "cell_type": "markdown",
   "metadata": {},
   "source": [
    "Give the equations used in each problem.\n",
    "\n",
    "Trapezoid Rule:"
   ]
  },
  {
   "cell_type": "markdown",
   "metadata": {},
   "source": [
    "$\\int_{a}^{b} f(x)\\, dx \\approx \\frac{h}{2} \\sum_{k=1}^{N} \\left( f(x_{k+1}) + f(x_{k}) \\right){}= \\frac{b-a}{2N}(f(x_1) + 2f(x_2) + 2f(x_3) + \\dotsb + 2f(x_N) + f(x_{N+1}))$"
   ]
  },
  {
   "cell_type": "markdown",
   "metadata": {},
   "source": [
    "###### Code and Results"
   ]
  },
  {
   "cell_type": "markdown",
   "metadata": {},
   "source": [
    "Present code and results here.  Include comments and discussion for code and plots as needed."
   ]
  },
  {
   "cell_type": "code",
   "execution_count": 2,
   "metadata": {
    "collapsed": false
   },
   "outputs": [],
   "source": [
    "%matplotlib inline\n",
    "import numpy as np\n",
    "import matplotlib.pyplot as plt"
   ]
  },
  {
   "cell_type": "code",
   "execution_count": 3,
   "metadata": {
    "collapsed": false
   },
   "outputs": [],
   "source": [
    "def f(x):\n",
    "    return (x-3)*(x-5)*(x-7)+85\n",
    "\n",
    "n = 201\n",
    "x = np.linspace(0, 10, n)\n",
    "y = f(x)"
   ]
  },
  {
   "cell_type": "markdown",
   "metadata": {},
   "source": [
    "Set range of integral:"
   ]
  },
  {
   "cell_type": "code",
   "execution_count": 4,
   "metadata": {
    "collapsed": false
   },
   "outputs": [],
   "source": [
    "a, b = 1, 9\n",
    "n2=6\n",
    "xint = np.linspace(a, b, n2)\n",
    "yint = f(xint)"
   ]
  },
  {
   "cell_type": "code",
   "execution_count": 5,
   "metadata": {
    "collapsed": false
   },
   "outputs": [
    {
     "data": {
      "text/plain": [
       "<matplotlib.text.Text at 0x5f62048>"
      ]
     },
     "execution_count": 5,
     "metadata": {},
     "output_type": "execute_result"
    },
    {
     "data": {
      "image/png": "[encoded data removed]",
      "text/plain": [
       "<matplotlib.figure.Figure at 0x5ed3240>"
      ]
     },
     "metadata": {},
     "output_type": "display_data"
    }
   ],
   "source": [
    "#Plot function and trapezoid fit\n",
    "plt.plot(x, y, lw=2)\n",
    "plt.axis([0, 10, 0, 140])\n",
    "plt.fill_between(xint, 0, yint, facecolor='gray', alpha=0.4)\n",
    "plt.text(0.5 * (a + b), 30,r\"$\\int_a^b f(x)dx$\", horizontalalignment='center', fontsize=20);\n",
    "plt.xlabel('x', fontsize = 18)\n",
    "plt.ylabel('f(x)', fontsize = 18)\n",
    "plt.title('Trapezoid Rule Integration', fontsize = 18)"
   ]
  },
  {
   "cell_type": "markdown",
   "metadata": {},
   "source": [
    "Figure 1 - Trapezoid Rule Integration\n",
    "\n",
    "All figures should have titles and axis labels in readable fonts.  Discuss figures in-line:  Figure 1 shows the plot of the given example function with the trapezoid rule area fit."
   ]
  },
  {
   "cell_type": "markdown",
   "metadata": {},
   "source": [
    "Now calculate the integral numerically using the trapezoid rule:"
   ]
  },
  {
   "cell_type": "code",
   "execution_count": 6,
   "metadata": {
    "collapsed": false
   },
   "outputs": [
    {
     "name": "stdout",
     "output_type": "stream",
     "text": [
      "Self result: 680.0\n",
      "Built-in trapz result: 680.0\n"
     ]
    }
   ],
   "source": [
    "I=0\n",
    "for i in range(0, n2-1):\n",
    "    I+=(xint[i+1]-xint[i])/2*(yint[i]+yint[i+1])\n",
    "\n",
    "#Check with built in trapezoid function:\n",
    "I2 = trapz(yint,xint)\n",
    "\n",
    "print('Self result:', I)\n",
    "print('Built-in trapz result:', I2)"
   ]
  },
  {
   "cell_type": "markdown",
   "metadata": {},
   "source": [
    "### Conclusions"
   ]
  },
  {
   "cell_type": "markdown",
   "metadata": {},
   "source": [
    "After completing the problems, state the main conclusions that can be drawn from your analysis:  This analysis has demonstrated that the trapezoid rule can be applied as a reasonable numeric integration approximation tool."
   ]
  }
 ],
 "metadata": {
  "kernelspec": {
   "display_name": "Python 3",
   "language": "python",
   "name": "python3"
  },
  "language_info": {
   "codemirror_mode": {
    "name": "ipython",
    "version": 3
   },
   "file_extension": ".py",
   "mimetype": "text/x-python",
   "name": "python",
   "nbconvert_exporter": "python",
   "pygments_lexer": "ipython3",
   "version": "3.5.0"
  }
 },
 "nbformat": 4,
 "nbformat_minor": 0
}
