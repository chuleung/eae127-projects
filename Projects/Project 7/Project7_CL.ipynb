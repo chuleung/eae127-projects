{
 "cells": [
  {
   "cell_type": "markdown",
   "metadata": {},
   "source": [
    "# EAE 127 Project 7: Numerical Nonlinear Lifting-Line Method for Finite Wings\n"
   ]
  },
  {
   "cell_type": "markdown",
   "metadata": {},
   "source": [
    "Chung Yin Leung (998238900)"
   ]
  },
  {
   "cell_type": "markdown",
   "metadata": {},
   "source": [
    "---"
   ]
  },
  {
   "cell_type": "markdown",
   "metadata": {},
   "source": [
    "Imports and setup code:"
   ]
  },
  {
   "cell_type": "code",
   "execution_count": 4,
   "metadata": {
    "collapsed": true
   },
   "outputs": [],
   "source": [
    "import numpy as np\n",
    "import matplotlib.pyplot as pl\n",
    "from time import sleep\n",
    "%matplotlib inline"
   ]
  },
  {
   "cell_type": "markdown",
   "metadata": {},
   "source": [
    "---"
   ]
  },
  {
   "cell_type": "markdown",
   "metadata": {},
   "source": [
    "## Introduction"
   ]
  },
  {
   "cell_type": "markdown",
   "metadata": {},
   "source": [
    "In this project, the Nonlinear Numeric Lifting Line method is implemented and used to determine the aerodynamic properties of finite wings. This method is a numeric implementation that finds a solution to the fundamental equation of Prandtl's lifting- line theory when the 2D lift coefficient does not vary linearly with the angle of attack. By doing this, finite wing performance beyond stall can be examined and included in the overall results. For the entire project, the airfoil used is the NACA 1412 airfoil, but three different chord distributions of the wing will be used."
   ]
  },
  {
   "cell_type": "markdown",
   "metadata": {},
   "source": [
    "---"
   ]
  },
  {
   "cell_type": "markdown",
   "metadata": {},
   "source": [
    "### Problem 1: Nonlinear Numeric Lifting Line Method"
   ]
  },
  {
   "cell_type": "markdown",
   "metadata": {},
   "source": [
    "#### Approach"
   ]
  },
  {
   "cell_type": "markdown",
   "metadata": {},
   "source": [
    "A Class is built to contain all the information and results that the nonlinear numeric lifting line method needs and generates. The Class is initialized using geometric properties of the wing, freestream properties, and the $\\Gamma_0$ used for the initial elliptical circulation distribution. A function is then defined to implement the lifting line method by accepting an object of the Class and using the properties defined in that object's Class.\n",
    "\n",
    "The steps to the lifting line method requires the wing geometry to first be discretized. Then a circulation distribution is assumed allowing the first iteration of the induced angle of attack is calculated using Prandtl's Lifting Line Theory. An effective angle of attack can then be calculated through a geometric relationship. Using the effective angle of attack and lift coefficient data for the NACA 1412 airfoil, a lift coefficient can be obtained at all of the discretized spanwise locations. A new circulation distribution can then be calculated using the Kutta-Joukowski Theorem. The new circulation is damped through Successive Under Relaxation, which applies a multiplication factor to the correction, the difference between the new circulation and the old circulation. The correction is then added onto the old circulation to form the actual new circulation. This is repeated until the residual is below a tolerance value. The residual is defined as the maximum absolute value of the difference of the new circulation, before applying the correction factor, and the old circulation.\n",
    "\n",
    "The lift coefficient data is obtained through XFOIL at a Reynolds number of $10^5$."
   ]
  },
  {
   "cell_type": "markdown",
   "metadata": {},
   "source": [
    "#### Equations"
   ]
  },
  {
   "cell_type": "markdown",
   "metadata": {},
   "source": [
    "The lifting line method relies on Prandtl's Lifting Line Theory. This theory relates the geometry angle of attack with the effective angle of attack and the induced angle of attack under one variable. The result for the induced angle of attack is shown below:\n",
    "\n",
    "$$\n",
    "\\alpha_i (y_n) = \\frac{1}{4\\pi V_\\infty} \\int_\\frac{-b}{2}^\\frac{b}{2} \\frac{\\frac{d\\Gamma}{dy}}{y_n - y} \\rm dy\n",
    "$$"
   ]
  },
  {
   "cell_type": "markdown",
   "metadata": {},
   "source": [
    "Because the formula for induced angle of attack will produce a singularity in the integral, a dummy variable of integration is used instead. The dummy variable $\\xi$ is related to a discretized $y_i$ with the following equation:\n",
    "\n",
    "$$\n",
    "\\xi_i = y_i + \\frac{dy}{2}\n",
    "$$\n",
    "\n",
    "where $dy$ will be constant and is just $y_{i+1}$ - $y_i$."
   ]
  },
  {
   "cell_type": "markdown",
   "metadata": {},
   "source": [
    "Substituting the dummy variable forms the following equation for the induced angle of attack:\n",
    "\n",
    "$$\n",
    "\\alpha_i (y_n) = \\frac{1}{4\\pi V_\\infty} \\int_\\frac{-b}{2}^\\frac{b}{2} \\frac{\\frac{d\\Gamma}{d\\xi}}{y_n - \\xi} \\rm d\\xi\n",
    "$$"
   ]
  },
  {
   "cell_type": "markdown",
   "metadata": {},
   "source": [
    "The derivative of the circulation with respect to $\\xi$ can be defined as a central difference of the circulation in $y$:\n",
    "\n",
    "$$\n",
    "\\frac{d\\Gamma}{d\\xi} = \\frac{\\Gamma(y_{j+1}) - \\Gamma(y_{j})}{\\Delta \\xi}\n",
    "$$\n",
    "\n",
    "where $\\Delta \\xi$ would just be $dy$ if the spacings are constant."
   ]
  },
  {
   "cell_type": "markdown",
   "metadata": {},
   "source": [
    "The effective angle of attack can then be calculated from the geometric angle of attack, the induced angle of attack, and geometric twist.\n",
    "\n",
    "$$\n",
    "\\alpha_{eff} (y)= \\alpha_{geom} - \\alpha_i (y) - t(y)\n",
    "$$"
   ]
  },
  {
   "cell_type": "markdown",
   "metadata": {},
   "source": [
    "And after obtaining the lift coefficients, the Kutta-Joukowski Theorem can calculate a new $\\Gamma$ distribution.\n",
    "\n",
    "$$\n",
    "\\Gamma_{new} = \\frac{1}{2} V_\\infty c(y) C_l (y)\n",
    "$$"
   ]
  },
  {
   "cell_type": "markdown",
   "metadata": {},
   "source": [
    "The residual is then evaluated as follows:\n",
    "\n",
    "$$\n",
    "Res = max(abs(\\Gamma_{new} - \\Gamma_{old}))\n",
    "$$"
   ]
  },
  {
   "cell_type": "markdown",
   "metadata": {},
   "source": [
    "And the SUR factor is applied as follows:\n",
    "\n",
    "$$\n",
    "\\Gamma_{new} = \\Gamma_{old} + D(\\Gamma_{new} - \\Gamma_{old})\n",
    "$$\n",
    "\n",
    "where $D$ is the under-relaxation factor."
   ]
  },
  {
   "cell_type": "markdown",
   "metadata": {},
   "source": [
    "The initial circulation used is the elliptic circulation distribution. It is defined by the following equation:\n",
    "\n",
    "$$\n",
    "\\Gamma_{elliptic}(y) = \\Gamma_0 \\sqrt{1-\\left(\\frac{2y}{b}\\right)^2}\n",
    "$$\n",
    "\n",
    "I chose $\\Gamma_0$ to be $1$."
   ]
  },
  {
   "cell_type": "markdown",
   "metadata": {},
   "source": [
    "#### Code and Results"
   ]
  },
  {
   "cell_type": "markdown",
   "metadata": {},
   "source": [
    "Class containing information used in the lifting-line method for a wing:"
   ]
  },
  {
   "cell_type": "code",
   "execution_count": 5,
   "metadata": {
    "collapsed": false
   },
   "outputs": [],
   "source": [
    "class Wing_NNLL:\n",
    "    def __init__(self, S, b, chord, geo_twist, circ_0, Cl_data_file, alpha_inf, Vinf = 1, rho_inf=1):\n",
    "        \"\"\"Contains information used in the lifting-line method\n",
    "        ny -- Number of points to discretize wing\n",
    "        S -- Planform area\n",
    "        b -- Wing span length\n",
    "        chord -- A function or constant for the chord values of airfoils along span\n",
    "        geo_twist -- Geometric angle of attack in degrees (Can be a function or constant)\n",
    "        circ_0 -- Initial Gamma_0 for an elliptical lift distribution\n",
    "        Cl_data_file -- String containing location of lift coefficient data file\n",
    "        alpha_inf -- Freestream angle of attack in degrees\n",
    "        Vinf -- freestream velocity (default = 1)\n",
    "        rho_inf -- freestream density\n",
    "        \"\"\"\n",
    "        #Stores geometric properties\n",
    "        self.plan_area = S\n",
    "        self.span_len = b\n",
    "        \n",
    "        #Initialization parameters that may be a function or constant\n",
    "        #Chord\n",
    "        self.chord_init = []\n",
    "        self.chord_init.append(chord)\n",
    "        #Geometric angle of attack\n",
    "        self.geo_twist_init = []\n",
    "        self.geo_twist_init.append(geo_twist)\n",
    "        #Gamma_0 for circulation\n",
    "        self.circ_init = circ_0\n",
    "        \n",
    "        #Note 3 lines are skipped when reading\n",
    "        self.alpha_dat, self.Cl_dat = np.genfromtxt(Cl_data_file,skip_header=3,unpack=True)\n",
    "        \n",
    "        #Freestream properties\n",
    "        self.alpha_inf = alpha_inf\n",
    "        self.Vinf = Vinf\n",
    "        self.rho = rho_inf\n",
    "\n",
    "    def init_alpha_geo(self,ny):\n",
    "        self.alpha_geo = self.alpha_inf*np.ones((ny,),dtype=float)\n",
    "    \n",
    "    def init_geo_twist(self,ny):\n",
    "        #Initializes geometric angle of attack\n",
    "        if hasattr(self.geo_twist_init[0], '__call__'):\n",
    "            self.geo_twist = self.geo_twist_init[0](self.y)\n",
    "        elif len(self.geo_twist_init) == 1:\n",
    "            self.geo_twist = self.geo_twist_init*np.ones((ny,),dtype=float)\n",
    "        else:\n",
    "            print('Geometric angle of attack must be constant or a function of span')\n",
    "        \n",
    "    def init_chord(self,ny):\n",
    "        #Initializes chord lengths\n",
    "        if hasattr(self.chord_init[0], '__call__'):\n",
    "            self.chord = self.chord_init[0](self.y)\n",
    "        elif len(self.chord_init) == 1:\n",
    "            self.chord = self.chord_init*np.ones((ny,),dtype=float)\n",
    "        else:\n",
    "            print('Chord must be constant or a function of span')\n",
    "\n",
    "            \n",
    "    def init_circ(self, ny):\n",
    "        #Initialize circulation across wing with elliptical distribution\n",
    "        self.circ = self.circ_init*(1-(2*self.y/self.span_len)**2)**(0.5)\n",
    "        \n",
    "        if len(self.circ) != ny:\n",
    "            print('init_circ mismatch of dimensions!')\n",
    "\n",
    "            \n",
    "    def discretize_wing(self, ny):\n",
    "        #Function discretize wing span into ny points\n",
    "        if ny < 2:\n",
    "            print('Must have more than 1 point!')\n",
    "            return\n",
    "        #Obtains wing span length\n",
    "        b = self.span_len\n",
    "        \n",
    "        self.ny = ny #Stores ny\n",
    "        #Initializes y values, and dy\n",
    "        self.y, self.dy = np.linspace(-b/2, b/2, ny, retstep=True)\n",
    "        \n",
    "        #Evaluates for xi (dummy variable)\n",
    "        self.xi = np.empty((ny-1,),dtype=float)\n",
    "        for i in range(0,ny-1):\n",
    "            self.xi[i] = self.y[i] + self.dy/2\n",
    "        self.dxi = self.xi[1] - self.xi[0]\n",
    "        \n",
    "        #Initializes geometry angle of attack\n",
    "        self.init_alpha_geo(ny)\n",
    "        #Initializes twist if any\n",
    "        self.init_geo_twist(ny)\n",
    "        #Initializes chord\n",
    "        self.init_chord(ny)\n",
    "        #Initializes circulation\n",
    "        self.init_circ(ny)\n",
    "    \n",
    "    \n",
    "    def set_alpha_eff(self, al_eff):\n",
    "        #Sets effective alpha distribution corresponding to y's\n",
    "        if len(al_eff) != len(self.y):\n",
    "            print('Effective alpha distribution must have same number of points as y!')\n",
    "            return\n",
    "        self.alpha_eff = al_eff\n",
    "    \n",
    "    \n",
    "    def set_alpha_ind(self, al_ind):\n",
    "        #Sets induced alpha distribution corresponding to y's\n",
    "        if len(al_ind) != len(self.y):\n",
    "            print('Induced alpha distribution must have same number of points as y!')\n",
    "            return\n",
    "        self.alpha_ind = al_ind\n",
    "        \n",
    "        \n",
    "    def get_Cl(self, alpha):\n",
    "        #Retrieves lift coefficient data from an angle of attack\n",
    "        if (alpha > self.alpha_dat[-1]).any() | (alpha < self.alpha_dat[0]).any():\n",
    "            print('Required alphas is out of range of Cl data!')\n",
    "            return\n",
    "        return np.interp(alpha, self.alpha_dat, self.Cl_dat)\n",
    "    \n",
    "    \n",
    "    def set_circ(self, circ):\n",
    "        #Sets circulation distribution corresponding to y's\n",
    "        if len(circ) != len(self.y):\n",
    "            print('Circulation distribution must have same number of points as y!')\n",
    "            return\n",
    "        self.circ = circ\n",
    "    \n",
    "    \n",
    "    def plot_circ(self, title, label, normalized = 0):\n",
    "        #Plots the circulation\n",
    "        #Retrieves properties\n",
    "        Gamma_0 = max(self.circ)\n",
    "        Gamma = self.circ\n",
    "        y = self.y\n",
    "        b = self.span_len\n",
    "        \n",
    "        if normalized != 0:\n",
    "            y = y/(b/2)\n",
    "            Gamma = Gamma/Gamma_0\n",
    "            \n",
    "        if normalized != 0:\n",
    "            pl.plot([y[i] for i in range(0,self.ny) if y[i] >= 0], [Gamma[i] for i in range(0,self.ny) if y[i] >= 0]\n",
    "                                   ,label = label)\n",
    "            pl.ylabel('$\\\\frac{\\Gamma}{\\Gamma_0}$', fontsize = 25)\n",
    "            pl.xlabel('$\\\\frac{2y}{b}$', fontsize = 25)\n",
    "        else:\n",
    "            pl.plot(y, Gamma, label = label)\n",
    "            pl.ylabel('$\\Gamma$', fontsize = 25)\n",
    "            pl.xlabel('$y$', fontsize = 25)\n",
    "            \n",
    "        pl.title(title, fontsize = 16)\n",
    "        ymin, ymax = pl.ylim()\n",
    "        pl.ylim((ymin+0.1*ymin,ymax+0.1*ymax))\n",
    "        xmin, xmax = pl.xlim()\n",
    "        pl.xlim((xmin+0.1*xmin,xmax+0.1*xmax))\n",
    "    \n",
    "    def plot_alpha_eff(self, title, label):\n",
    "        pl.plot(self.y[1:-1], self.alpha_eff[1:-1], label = label)\n",
    "        pl.ylabel('$\\\\alpha_{eff}$', fontsize = 25)\n",
    "        pl.xlabel('$y$', fontsize = 25)\n",
    "        pl.title(title, fontsize = 16)\n",
    "\n",
    "    def reinitialize(self):\n",
    "        self.discretize_wing(self.ny)"
   ]
  },
  {
   "cell_type": "markdown",
   "metadata": {},
   "source": [
    "Function that iterates for the circulation and effective angle of attack distribution:"
   ]
  },
  {
   "cell_type": "code",
   "execution_count": 6,
   "metadata": {
    "collapsed": false
   },
   "outputs": [],
   "source": [
    "def Lifting_Line_Method(wing, D, tol):\n",
    "    \"\"\"Implementation of the lifting-line method\n",
    "    wing -- an object of the Wing_NNLL class\n",
    "    D -- Correction factor\n",
    "    tol -- Tolerance for residual to stop iteration\n",
    "    \"\"\"\n",
    "    def alpha_eff(wing):\n",
    "        #Function solves for effective alpha distribution\n",
    "        #Retrieves number of y points\n",
    "        ny = wing.ny\n",
    "        y = wing.y\n",
    "        Gamma = wing.circ\n",
    "        xi = wing.xi\n",
    "        dxi = wing.dxi\n",
    "        \n",
    "        #Evaluates for the derivative of Gamma\n",
    "        dGamma_dxi = np.empty((ny-1,),dtype=float)\n",
    "        for j in range(0, ny - 1):\n",
    "            dGamma_dxi[j] = (Gamma[j+1] - Gamma[j])/dxi\n",
    "        \n",
    "        #Evaluates for alpha induced\n",
    "        al_i = np.empty((ny,),dtype=float)\n",
    "        for n in range(0, ny):\n",
    "            #Initializes integrand array to store values in integral\n",
    "            integrand = np.empty((ny-1,),dtype=float)\n",
    "            for j in range(0, ny - 1):\n",
    "                integrand[j] = dGamma_dxi[j]/(y[n] - xi[j])\n",
    "            \n",
    "            al_i[n] = np.trapz(integrand,xi)/(4*np.pi*wing.Vinf)\n",
    "            \n",
    "        \n",
    "        #Calculates alpha effective\n",
    "        al_eff = wing.alpha_geo - al_i - wing.geo_twist\n",
    "        #Sets alpha effective & alpha induced\n",
    "        wing.set_alpha_eff(al_eff)\n",
    "        wing.set_alpha_ind(al_i)\n",
    "        \n",
    "        return alpha_eff\n",
    "    \n",
    "    def Circulation_new(wing):\n",
    "        #Function solves for new circulation\n",
    "        \n",
    "        #Obtains lift coefficient values\n",
    "        Cl_y = wing.get_Cl(wing.alpha_eff)\n",
    "\n",
    "        #Calculates new circulation\n",
    "        circ_new = [0.5*wing.Vinf*wing.chord[i]*Cl_y[i] for i in range(0,wing.ny)]\n",
    "        #Set tip vortices to 0 as BC\n",
    "        circ_new[0] = 0; circ_new[-1] = 0;\n",
    "        #Calculates residual\n",
    "        res = max(abs(circ_new - wing.circ))\n",
    "        #Applies correction factor\n",
    "        circ_new = wing.circ + D*(circ_new - wing.circ)\n",
    "        #Sets new circulation\n",
    "        wing.set_circ(circ_new)\n",
    "        \n",
    "        return circ_new, res\n",
    "    \n",
    "    \n",
    "    #Initializes residual\n",
    "    res = 1.\n",
    "    #Initializes variable to store # of iterations\n",
    "    iterations = 0\n",
    "    while (res > tol):\n",
    "        alpha_eff(wing)\n",
    "        circ_new, res = Circulation_new(wing)\n",
    "        iterations += 1\n",
    "        if iterations == 5001:\n",
    "            print('Iterations exceeded 5000:')\n",
    "        \n",
    "        if iterations == 10001:\n",
    "            print('Iterations exceeded 10000:')\n",
    "        \n",
    "        if iterations == 15001:\n",
    "            print('Iterations exceeded 15000:')\n",
    "\n",
    "    \n",
    "    return iterations, wing"
   ]
  },
  {
   "cell_type": "markdown",
   "metadata": {},
   "source": [
    "Main script:"
   ]
  },
  {
   "cell_type": "code",
   "execution_count": 7,
   "metadata": {
    "collapsed": false
   },
   "outputs": [],
   "source": [
    "#Wing geometric parameters\n",
    "AR = 20.\n",
    "b = 1.\n",
    "S = (b**2)/AR\n",
    "c = S/b\n",
    "geo_twist = 0.\n",
    "#Initial Gamma_0\n",
    "Gamma_0 = 1.\n",
    "#Freestream properties\n",
    "alpha_inf = 0.\n",
    "Vinf = 1.\n",
    "rho_inf = 1.\n",
    "\n",
    "#Initializes Wing for Numerical Nonlinear Lifting Line Method\n",
    "NACA1412 = Wing_NNLL(S, b, c, geo_twist, Gamma_0, 'NACA1412.dat', alpha_inf, Vinf, rho_inf)\n",
    "NACA1412.discretize_wing(301)"
   ]
  },
  {
   "cell_type": "code",
   "execution_count": 8,
   "metadata": {
    "collapsed": false,
    "scrolled": false
   },
   "outputs": [],
   "source": [
    "#Parameters for iteration\n",
    "D = 0.05\n",
    "tol = 1.e-3\n",
    "\n",
    "iterations, abc = Lifting_Line_Method(NACA1412, D, tol)\n",
    "\n",
    "#Anderson results\n",
    "y_norm = [0, 0.1, 0.2, 0.4, 0.5, 0.6, 0.7, 0.8, 0.9, 0.95]\n",
    "Gamma_norm = [1, 0.995, 0.99, 0.975, 0.965, 0.95, 0.93, 0.9, 0.8, 0.63]"
   ]
  },
  {
   "cell_type": "markdown",
   "metadata": {},
   "source": [
    "Code for plots:"
   ]
  },
  {
   "cell_type": "code",
   "execution_count": 9,
   "metadata": {
    "collapsed": false,
    "scrolled": false
   },
   "outputs": [
    {
     "data": {
      "image/png": "[encoded data removed]",
      "text/plain": [
       "<matplotlib.figure.Figure at 0x75d7828>"
      ]
     },
     "metadata": {},
     "output_type": "display_data"
    }
   ],
   "source": [
    "pl.figure(figsize = (8,8))\n",
    "NACA1412.plot_circ('NACA 1412 Finite Wing Normalized Circulation Distribution', 'My Solution', 1)\n",
    "pl.scatter(y_norm, Gamma_norm, label = 'Anderson\\'s Results', color = 'k');\n",
    "pl.legend(loc = 'best');\n"
   ]
  },
  {
   "cell_type": "markdown",
   "metadata": {},
   "source": [
    "**Figure 1: NACA 1412 Finite Wing Normalized Circulation Distribution**"
   ]
  },
  {
   "cell_type": "markdown",
   "metadata": {
    "collapsed": false
   },
   "source": [
    "My solution is fairly consistent with Anderson's results for about half of the half-span. My solution began to deviate from Anderson's results when the circulation distribution approaches the tip, where it must be 0 to be physically realistic. The difference in the results can be attributed to the damping factor on the correction, and the tolerance value at which the iteration is stopped. For lower tolerances, the right \"corner\" of the circulation distribution is smoother. For higher tolerances, the corner is much sharper. Different damping factors can also cause a different solution to be converged."
   ]
  },
  {
   "cell_type": "markdown",
   "metadata": {},
   "source": [
    "---"
   ]
  },
  {
   "cell_type": "markdown",
   "metadata": {},
   "source": [
    "### Problem 2: Lift Distribution of Various Wings With NACA 1412 Airfoil Sections"
   ]
  },
  {
   "cell_type": "markdown",
   "metadata": {},
   "source": [
    "#### Approach"
   ]
  },
  {
   "cell_type": "markdown",
   "metadata": {},
   "source": [
    "The Lifting Line implementation from Problem 1 is reused with a different set of wing geometric parameters and freestream parameters. Three wings with the NACA 1412 airfoil are examined. The lift coefficient data are obtained at the Reynolds number calculated from the given conditions. The only difference between the three wings is the chord distribution. For the elliptic and tapered wing, a function is found for the chord along the span. The elliptic wing is modeled using a symmetric elliptic chord distribution. The tapered wing's chord is a piecewise function where the chord changes direction at the root. Initializing each wing with the different chords using the Class defined in Problem 1 allows the Lifting Line method to be implemented in the same way as in Problem 1. The Lifting Line method allows the circulation distribution and effective angle of attack distribution to be found and plotted. Through those two distributions, the lift coefficient and the induced drag coefficient are also found."
   ]
  },
  {
   "cell_type": "markdown",
   "metadata": {},
   "source": [
    "#### Equations"
   ]
  },
  {
   "cell_type": "markdown",
   "metadata": {},
   "source": [
    "The Reynolds number for the given conditions is calculated using the following equation:\n",
    "\n",
    "$$\n",
    "Re_{c_r} = \\frac{\\rho_\\infty V_\\infty c_r}{\\mu_\\infty}\n",
    "$$"
   ]
  },
  {
   "cell_type": "markdown",
   "metadata": {},
   "source": [
    "For an elliptic wing, the chord is a function of the span:\n",
    "\n",
    "$$\n",
    "c_{elliptic}(y) = c_0 \\sqrt{1-\\left(\\frac{2y}{b}\\right)^2}\n",
    "$$\n",
    "\n",
    "where\n",
    "\n",
    "$$\n",
    "c_0 = \\frac{S}{\\int_{-b/2}^{b/2}\\sqrt{1-\\left(\\frac{2y}{b}\\right)^2} \\rm dy} = \\frac{4S}{b\\pi}\n",
    "$$\n"
   ]
  },
  {
   "cell_type": "markdown",
   "metadata": {},
   "source": [
    "For a rectangular wing, the chord is constant:\n",
    "\n",
    "$$\n",
    "c_{rect} = \\frac{S}{b}\n",
    "$$"
   ]
  },
  {
   "cell_type": "markdown",
   "metadata": {},
   "source": [
    "For a tapered wing, the chord is a linear function of the span, but split into two parts:\n",
    "\n",
    "$$\n",
    "c_1(y) = \\frac{2}{b} (c_r - c_t)y + c_r,\\ \\ \\rm for \\ \\ \\frac{-b}{2} \\le y \\le 0\n",
    "$$\n",
    "\n",
    "and\n",
    "\n",
    "$$\n",
    "c_2(y) = \\frac{-2}{b} (c_r - c_t)y + c_r,\\ \\ \\rm for \\ \\ 0 \\le y \\le \\frac{b}{2}\n",
    "$$\n",
    "\n",
    "where\n",
    "\n",
    "$$\n",
    "c_t = \\frac{2S}{b} - c_r\n",
    "$$"
   ]
  },
  {
   "cell_type": "markdown",
   "metadata": {},
   "source": [
    "The lift coefficient can be calculated using Eq. 5.26 from Anderson's:\n",
    "\n",
    "$$\n",
    "C_L = \\frac{2}{V_\\infty S} \\int_{-b/2}^{b/2} \\Gamma (y) \\rm dy\n",
    "$$\n",
    "\n",
    "And the induced drag coefficient can be calculated using Eq. 5.30 from Anderson's:  \n",
    "\n",
    "$$\n",
    "C_{D,i} = \\frac{2}{V_\\infty S} \\int_{-b/2}^{b/2} \\Gamma (y) \\alpha_i (y) \\rm dy\n",
    "$$\n",
    "\n",
    "Both are implemented in the function below:"
   ]
  },
  {
   "cell_type": "code",
   "execution_count": 10,
   "metadata": {
    "collapsed": true
   },
   "outputs": [],
   "source": [
    "def calc_CL_CDi(wing):\n",
    "    Gamma = wing.circ\n",
    "    alpha_ind = wing.alpha_ind\n",
    "    y = wing.y\n",
    "    \n",
    "    CL = 2*np.trapz(Gamma,y)/(wing.Vinf*wing.plan_area)\n",
    "    CDi = 2*np.trapz(Gamma*alpha_ind,y)/(wing.Vinf*wing.plan_area)\n",
    "    \n",
    "    return CL, CDi"
   ]
  },
  {
   "cell_type": "markdown",
   "metadata": {},
   "source": [
    "The last equation used is the lift coefficient at cruise:\n",
    "\n",
    "$$\n",
    "C_{L,cruise} = \\frac{W}{0.5\\rho_\\infty V_\\infty^2 S}\n",
    "$$"
   ]
  },
  {
   "cell_type": "markdown",
   "metadata": {},
   "source": [
    "#### Code and Results"
   ]
  },
  {
   "cell_type": "markdown",
   "metadata": {},
   "source": [
    "Given properties:"
   ]
  },
  {
   "cell_type": "code",
   "execution_count": 14,
   "metadata": {
    "collapsed": true
   },
   "outputs": [],
   "source": [
    "#CL Data Input Path\n",
    "CL_dat_path = 'NACA1412_Prob2.dat'\n",
    "\n",
    "#Load on wing\n",
    "Weight = 9200 #lbf\n",
    "\n",
    "#Wing geometric properties\n",
    "S = 235 #ft^2\n",
    "b = 50 #ft\n",
    "AR = b**2/S\n",
    "cr = 8.48 #ft Root chord\n",
    "geo_twist = 0. #From airfoil\n",
    "\n",
    "#Freestream properties\n",
    "alpha_inf = 5.\n",
    "Vinf = 362*5280/(60*60)\n",
    "rho_inf = 1.1435e-3 #slugs/ft^3\n",
    "mu = 3.25e-7 #slugs/(ft*s)\n",
    "\n",
    "#Calculates Reynolds number\n",
    "Re = rho_inf*Vinf*cr/mu\n",
    "\n",
    "#Initial Gamma_0\n",
    "Gamma_0 = 1.\n",
    "\n",
    "#Parameters for iteration\n",
    "D = 0.05\n",
    "tol = 1.e-3\n"
   ]
  },
  {
   "cell_type": "markdown",
   "metadata": {},
   "source": [
    "The Reynolds number is $15.841(10^6)$ based on the root chord."
   ]
  },
  {
   "cell_type": "markdown",
   "metadata": {},
   "source": [
    "Initializes elliptic wing:"
   ]
  },
  {
   "cell_type": "code",
   "execution_count": 15,
   "metadata": {
    "collapsed": true
   },
   "outputs": [],
   "source": [
    "def chord_elliptic(y):\n",
    "    c_0 = 4*S/(b*np.pi)\n",
    "    return c_0*(1-(2*y/b)**2)**(0.5)"
   ]
  },
  {
   "cell_type": "code",
   "execution_count": 17,
   "metadata": {
    "collapsed": false,
    "scrolled": false
   },
   "outputs": [],
   "source": [
    "#Initializes Elliptic Wing\n",
    "elliptic = Wing_NNLL(S, b, chord_elliptic, geo_twist, Gamma_0, CL_dat_path, alpha_inf, Vinf, rho_inf)\n",
    "elliptic.discretize_wing(301)"
   ]
  },
  {
   "cell_type": "markdown",
   "metadata": {},
   "source": [
    "Initializes rectangular wing:"
   ]
  },
  {
   "cell_type": "code",
   "execution_count": 18,
   "metadata": {
    "collapsed": false,
    "scrolled": false
   },
   "outputs": [],
   "source": [
    "c_rec = S/b\n",
    "#Initializes rectangular Wing\n",
    "rect = Wing_NNLL(S, b, c_rec, geo_twist, Gamma_0, CL_dat_path, alpha_inf, Vinf, rho_inf)\n",
    "rect.discretize_wing(301)"
   ]
  },
  {
   "cell_type": "markdown",
   "metadata": {
    "collapsed": false
   },
   "source": [
    "Initializes tapered wing:"
   ]
  },
  {
   "cell_type": "code",
   "execution_count": 19,
   "metadata": {
    "collapsed": false
   },
   "outputs": [],
   "source": [
    "def chord_tapered(y):\n",
    "    ct = 2*S/b - cr\n",
    "    y = np.array(y,dtype=float)\n",
    "    c = np.empty((len(y),),dtype=float)\n",
    "    for i in range(0,len(y)):\n",
    "        if (y[i] >= -b/2) & (y[i] <= 0):\n",
    "            c[i] = (2/b)*(cr - ct)*y[i] + cr\n",
    "        elif (y[i] >= 0) & (y[i] <= b/2):\n",
    "            c[i] = (-2/b)*(cr - ct)*y[i] + cr\n",
    "        else:\n",
    "             print('Out of range!')\n",
    "             return\n",
    "    return c"
   ]
  },
  {
   "cell_type": "code",
   "execution_count": 20,
   "metadata": {
    "collapsed": false
   },
   "outputs": [],
   "source": [
    "#Initializes tapered Wing\n",
    "tapered = Wing_NNLL(S, b, chord_tapered, geo_twist, Gamma_0, CL_dat_path, alpha_inf, Vinf, rho_inf)\n",
    "tapered.discretize_wing(301)"
   ]
  },
  {
   "cell_type": "markdown",
   "metadata": {},
   "source": [
    "Code to plot Planform Geometries:"
   ]
  },
  {
   "cell_type": "code",
   "execution_count": 21,
   "metadata": {
    "collapsed": false,
    "scrolled": false
   },
   "outputs": [
    {
     "data": {
      "image/png": "[encoded data removed]",
      "text/plain": [
       "<matplotlib.figure.Figure at 0x8165898>"
      ]
     },
     "metadata": {},
     "output_type": "display_data"
    }
   ],
   "source": [
    "pl.figure(figsize = (15,4.5))\n",
    "\n",
    "pl.plot(elliptic.y, elliptic.chord/2, elliptic.y, -elliptic.chord/2, color = 'b')\n",
    "pl.ylim((-6,6));\n",
    "pl.title('Planform Geometry of the Elliptic Wing', fontsize = 16);\n",
    "pl.ylabel('$z$', fontsize = 25);\n",
    "pl.xlabel('$y$', fontsize = 25);"
   ]
  },
  {
   "cell_type": "markdown",
   "metadata": {},
   "source": [
    "**Figure 2: Planform Geometry of the Elliptic Wing**\n",
    "\n",
    "Figure 2 shows the top-down view of the elliptic wing."
   ]
  },
  {
   "cell_type": "code",
   "execution_count": 22,
   "metadata": {
    "collapsed": false
   },
   "outputs": [
    {
     "data": {
      "image/png": "[encoded data removed]",
      "text/plain": [
       "<matplotlib.figure.Figure at 0x7639e80>"
      ]
     },
     "metadata": {},
     "output_type": "display_data"
    }
   ],
   "source": [
    "pl.figure(figsize = (15,4.5))\n",
    "\n",
    "pl.plot(rect.y, rect.chord/2, rect.y, -rect.chord/2, color = 'b');\n",
    "pl.plot([rect.y[0],rect.y[0]],[rect.chord[0]/2, -rect.chord[0]/2], color = 'b')\n",
    "pl.plot([rect.y[-1],rect.y[-1]],[rect.chord[-1]/2, -rect.chord[-1]/2], color = 'b')\n",
    "pl.ylim((-6,6));\n",
    "pl.title('Planform Geometry of the Rectangular Wing', fontsize = 16);\n",
    "pl.ylabel('$z$', fontsize = 25);\n",
    "pl.xlabel('$y$', fontsize = 25);"
   ]
  },
  {
   "cell_type": "markdown",
   "metadata": {},
   "source": [
    "**Figure 3: Planform Geometry of the Rectangular Wing**\n",
    "\n",
    "Figure 3 shows the top-down view of the rectangular wing."
   ]
  },
  {
   "cell_type": "code",
   "execution_count": 23,
   "metadata": {
    "collapsed": false
   },
   "outputs": [
    {
     "data": {
      "image/png": "[encoded data removed]",
      "text/plain": [
       "<matplotlib.figure.Figure at 0x7627668>"
      ]
     },
     "metadata": {},
     "output_type": "display_data"
    }
   ],
   "source": [
    "pl.figure(figsize = (15,4.5))\n",
    "\n",
    "pl.plot(tapered.y, tapered.chord/2, tapered.y, -tapered.chord/2, color = 'b');\n",
    "pl.plot([tapered.y[0], tapered.y[0]],[tapered.chord[0]/2, -tapered.chord[0]/2], color = 'b')\n",
    "pl.plot([tapered.y[-1], tapered.y[-1]],[tapered.chord[-1]/2, -tapered.chord[-1]/2], color = 'b')\n",
    "pl.ylim((-6,6));\n",
    "pl.title('Planform Geometry of the Tapered Wing', fontsize = 16);\n",
    "pl.ylabel('$z$', fontsize = 25);\n",
    "pl.xlabel('$y$', fontsize = 25);"
   ]
  },
  {
   "cell_type": "markdown",
   "metadata": {},
   "source": [
    "**Figure 4: Planform Geometry of the Tapered Wing**\n",
    "\n",
    "Figure 4 shows the top-down view of the tapered wing."
   ]
  },
  {
   "cell_type": "markdown",
   "metadata": {},
   "source": [
    "Code to calculate circulation and effective angle of attack distributions:"
   ]
  },
  {
   "cell_type": "code",
   "execution_count": 24,
   "metadata": {
    "collapsed": false
   },
   "outputs": [],
   "source": [
    "Lifting_Line_Method(elliptic, D, tol);\n",
    "Lifting_Line_Method(rect, D, tol);\n",
    "Lifting_Line_Method(tapered, D, tol);"
   ]
  },
  {
   "cell_type": "markdown",
   "metadata": {},
   "source": [
    "Code to plot circulation and effective angle of attack distributions"
   ]
  },
  {
   "cell_type": "code",
   "execution_count": 25,
   "metadata": {
    "collapsed": false,
    "scrolled": false
   },
   "outputs": [
    {
     "data": {
      "image/png": "[encoded data removed]",
      "text/plain": [
       "<matplotlib.figure.Figure at 0x762b828>"
      ]
     },
     "metadata": {},
     "output_type": "display_data"
    }
   ],
   "source": [
    "pl.figure(figsize = (15,4.5))\n",
    "elliptic.plot_circ('Elliptic', 'Elliptic');\n",
    "rect.plot_circ('Rect', 'Rectangular');\n",
    "tapered.plot_circ('Circulation Distributions for Each Wing at 5 $^o$ Angle of Attack', 'Tapered');\n",
    "pl.legend(loc='best');"
   ]
  },
  {
   "cell_type": "markdown",
   "metadata": {},
   "source": [
    "**Figure 5: Circulation Distributions for Each Wing at 5 $^o$ Angle of Attack**\n",
    "\n",
    "Figure 5 shows the circulation distributions for each wing. The plots show that the circulation distribution is heavily influenced by the chord distribution. The elliptic wing's circulation ressembles a elliptic wing's chord distribution, the rectangular wing's circulation distribution resembles a rectangular wing, and the tapered wing resembles the chord distribution's piecewise shape. The maximums for the circulation is at different values. The tapered wing has the highest circulation maximum while the rectangular wing has the lowest circulation maximum. And the tapered wing seems to be a \"midpoint\" wing between the rectangular wing and the elliptic wing. The tapered wing's circulation distribution replaces the sharp \"corner\" in the rectangular wing's distribution with a slope and has a single maximum circulation value similar to the elliptic wing's distribution."
   ]
  },
  {
   "cell_type": "code",
   "execution_count": 28,
   "metadata": {
    "collapsed": false
   },
   "outputs": [
    {
     "data": {
      "image/png": "[encoded data removed]",
      "text/plain": [
       "<matplotlib.figure.Figure at 0x8b68b38>"
      ]
     },
     "metadata": {},
     "output_type": "display_data"
    }
   ],
   "source": [
    "pl.figure(figsize = (8,8))\n",
    "elliptic.plot_alpha_eff('Elliptic', 'Elliptic')\n",
    "rect.plot_alpha_eff('Rect', 'Rectangular')\n",
    "tapered.plot_alpha_eff('Effective Angle of Attack Distribution for Each Wing at 5 $^o$ Angle of Attack', 'Tapered')\n",
    "pl.legend(loc='best');\n",
    "pl.ylim((4.85,5.10));\n",
    "xmin, xmax = pl.xlim()\n",
    "pl.xlim((xmin+0.1*xmin,xmax+0.1*xmax));"
   ]
  },
  {
   "cell_type": "markdown",
   "metadata": {},
   "source": [
    "**Figure 6: Effective Angle of Attack Distributions for Each Wing at 5 $^o$ Angle of Attack**\n",
    "\n",
    "Figure 6 shows the effective angle of attack distributions for each wing. The plot is generated without the effective angles of attack at the tips because those values are exploded but the trends can still be seen in the figure. The elliptic wing and the rectangular wing has a smooth effective angle of attack in the middle of the wing span. But the elliptic wing's effective angle of attack is lower while the rectangular wing's effective angle of attack is higher. At the tips, the elliptic wing's effective angle of attack increases exponentiallly while the rectangular wing's effective angle of attack decreases exponentially. The tapered wing's effective angle of attack is very different from the other two. The tapered wing has a very low effective angle of attack at the root and a decreasing effective angle of attack when moving in from the tips to the root. This would mean that the tapered wing produces more induced drag. At the tips, the tapered wing's effective angle of attack decreases exponentially, similar to the rectangular wing."
   ]
  },
  {
   "cell_type": "code",
   "execution_count": 41,
   "metadata": {
    "collapsed": false
   },
   "outputs": [],
   "source": [
    "#Parameters of alpha sweep\n",
    "alpha_start = -10\n",
    "alpha_end = 24\n",
    "alpha_step = 0.5\n",
    "#Initializes range of alphas to sweep\n",
    "alpha_range = np.arange(alpha_start, alpha_end, alpha_step, dtype=float)\n",
    "\n",
    "\n",
    "#Initializes arrays to store lift coeffs and drag coeffs\n",
    "CL_elliptic = np.zeros((len(alpha_range),), dtype=float)\n",
    "CDi_elliptic = np.zeros((len(alpha_range),), dtype=float)\n",
    "\n",
    "CL_rect = np.zeros((len(alpha_range),), dtype=float)\n",
    "CDi_rect = np.zeros((len(alpha_range),), dtype=float)\n",
    "\n",
    "CL_tapered = np.zeros((len(alpha_range),), dtype=float)\n",
    "CDi_tapered = np.zeros((len(alpha_range),), dtype=float)"
   ]
  },
  {
   "cell_type": "code",
   "execution_count": 30,
   "metadata": {
    "collapsed": false
   },
   "outputs": [],
   "source": [
    "#Initializes Elliptic Wing\n",
    "elliptic = Wing_NNLL(S, b, chord_elliptic, geo_twist, Gamma_0, CL_dat_path, alpha_inf, Vinf, rho_inf)\n",
    "elliptic.discretize_wing(301)"
   ]
  },
  {
   "cell_type": "code",
   "execution_count": 31,
   "metadata": {
    "collapsed": false,
    "scrolled": false
   },
   "outputs": [],
   "source": [
    "#Initializes rectangular Wing\n",
    "rect = Wing_NNLL(S, b, c_rec, geo_twist, Gamma_0, CL_dat_path, alpha_inf, Vinf, rho_inf)\n",
    "rect.discretize_wing(301)"
   ]
  },
  {
   "cell_type": "code",
   "execution_count": 32,
   "metadata": {
    "collapsed": false
   },
   "outputs": [],
   "source": [
    "#Initializes tapered Wing\n",
    "tapered = Wing_NNLL(S, b, chord_tapered, geo_twist, Gamma_0, CL_dat_path, alpha_inf, Vinf, rho_inf)\n",
    "tapered.discretize_wing(301)"
   ]
  },
  {
   "cell_type": "code",
   "execution_count": 37,
   "metadata": {
    "collapsed": true
   },
   "outputs": [],
   "source": [
    "#Exports the iterated data into a text file\n",
    "\n",
    "def save_CLCDi_iter(alpha, CL, CDi, filename):\n",
    "    dat = np.zeros((len(alpha),3), dtype = float)\n",
    "    for i in range(0,len(alpha)):\n",
    "        dat[i,0] = alpha[i]\n",
    "        dat[i,1] = CL[i]\n",
    "        dat[i,2] = CDi[i]\n",
    "\n",
    "    np.savetxt(filename, dat, fmt = '% 00f',header='   alpha        Cl        Cd')"
   ]
  },
  {
   "cell_type": "code",
   "execution_count": 38,
   "metadata": {
    "collapsed": false
   },
   "outputs": [],
   "source": [
    "for i in range(0,len(alpha_range)):\n",
    "    #Sets new angle of attack and reinitializes wing\n",
    "    elliptic.alpha_inf = alpha_range[i]\n",
    "    elliptic.reinitialize()\n",
    "    #Finds circulation and effective angle of attack distributions\n",
    "    Lifting_Line_Method(elliptic, D, tol);\n",
    "    #Solves for lift coefficient and drag coefficient\n",
    "    CL_elliptic[i], CDi_elliptic[i] = calc_CL_CDi(elliptic)\n",
    "    \n",
    "    #save_CLCDi_iter(alpha_range, CL_elliptic, CDi_elliptic, 'CLCDi_elliptic.dat')\n"
   ]
  },
  {
   "cell_type": "code",
   "execution_count": 39,
   "metadata": {
    "collapsed": false,
    "scrolled": false
   },
   "outputs": [],
   "source": [
    "for i in range(0,len(alpha_range)):\n",
    "    #Sets new angle of attack and reinitializes wing\n",
    "    rect.alpha_inf = alpha_range[i]\n",
    "    rect.reinitialize()\n",
    "    #Finds circulation and effective angle of attack distributions\n",
    "    Lifting_Line_Method(rect, D, tol);\n",
    "    #Solves for lift coefficient and drag coefficient\n",
    "    CL_rect[i], CDi_rect[i] = calc_CL_CDi(rect)\n",
    "    \n",
    "    #save_CLCDi_iter(alpha_range, CL_rect, CDi_rect, 'CLCDi_rect.dat')\n"
   ]
  },
  {
   "cell_type": "code",
   "execution_count": 42,
   "metadata": {
    "collapsed": false
   },
   "outputs": [],
   "source": [
    "for i in range(0,len(alpha_range)):\n",
    "    #Sets new angle of attack and reinitializes wing\n",
    "    tapered.alpha_inf = alpha_range[i]\n",
    "    tapered.reinitialize()\n",
    "    #Finds circulation and effective angle of attack distributions\n",
    "    Lifting_Line_Method(tapered, D, tol);\n",
    "    #Solves for lift coefficient and drag coefficient\n",
    "    CL_tapered[i], CDi_tapered[i] = calc_CL_CDi(tapered)\n",
    "    \n",
    "    #save_CLCDi_iter(alpha_range, CL_tapered, CDi_tapered, 'CLCDi_tapered.dat')"
   ]
  },
  {
   "cell_type": "code",
   "execution_count": 44,
   "metadata": {
    "collapsed": false
   },
   "outputs": [],
   "source": [
    "#Or load from files\n",
    "\n",
    "alpha_range, CL_elliptic, CDi_elliptic = np.loadtxt('CLCDi_elliptic.dat',skiprows = 1, unpack = True)\n",
    "\n",
    "alpha_range, CL_rect, CDi_rect = np.loadtxt('CLCDi_rect.dat',skiprows = 1, unpack = True)\n",
    "\n",
    "alpha_range, CL_tapered, CDi_tapered = np.loadtxt('CLCDi_tapered.dat',skiprows = 1, unpack = True)"
   ]
  },
  {
   "cell_type": "code",
   "execution_count": 45,
   "metadata": {
    "collapsed": false,
    "scrolled": false
   },
   "outputs": [
    {
     "data": {
      "image/png": "[encoded data removed]",
      "text/plain": [
       "<matplotlib.figure.Figure at 0x7f12a20>"
      ]
     },
     "metadata": {},
     "output_type": "display_data"
    }
   ],
   "source": [
    "pl.figure(figsize=(8,8))\n",
    "pl.plot(alpha_range,CL_elliptic,label = 'Elliptic');\n",
    "pl.plot(alpha_range, CL_rect, label = 'Rectangular');\n",
    "pl.plot(alpha_range, CL_tapered, label = 'Tapered');\n",
    "pl.ylabel('$C_L$', fontsize = 20);\n",
    "pl.xlabel('$\\\\alpha$', fontsize = 20);\n",
    "pl.title('$C_L$ vs $\\\\alpha$ for Each Wing', fontsize = 16);\n",
    "pl.legend(loc='best');"
   ]
  },
  {
   "cell_type": "markdown",
   "metadata": {},
   "source": [
    "**Figure 7: Lift Coefficient versus Angle of Attack for Each Wing**\n",
    "\n",
    "Figure 7 shows the lift curve for each of the wings. Without looking at the values directly, each wing seems to have the same lift curve. From Anderson's analysis of a general lift distribution, Eq. 5.53 from Anderson's shows that the lift coefficient is mainly dependent on the aspect ratio. Because the aspect ratio is the same in all cases the lift curve for each wing is roughly the same."
   ]
  },
  {
   "cell_type": "code",
   "execution_count": 46,
   "metadata": {
    "collapsed": false
   },
   "outputs": [
    {
     "name": "stdout",
     "output_type": "stream",
     "text": [
      "Aspect Ratio (same for each wing): 10.638297872340425\n"
     ]
    }
   ],
   "source": [
    "print('Aspect Ratio (same for each wing):', AR)"
   ]
  },
  {
   "cell_type": "code",
   "execution_count": 47,
   "metadata": {
    "collapsed": false,
    "scrolled": false
   },
   "outputs": [
    {
     "data": {
      "image/png": "[encoded data removed]",
      "text/plain": [
       "<matplotlib.figure.Figure at 0x80a6828>"
      ]
     },
     "metadata": {},
     "output_type": "display_data"
    }
   ],
   "source": [
    "pl.figure(figsize=(8,8))\n",
    "pl.plot(CDi_elliptic,CL_elliptic,label = 'Elliptic');\n",
    "pl.plot(CDi_rect, CL_rect, label = 'Rectangular');\n",
    "pl.plot(CDi_tapered, CL_tapered, label = 'Tapered');\n",
    "pl.ylabel('$C_L$', fontsize = 20);\n",
    "pl.xlabel('$C_{D,i}$', fontsize = 20);\n",
    "pl.title('$C_L$ vs $C_{D,i}$ for Each Wing', fontsize = 16);\n",
    "pl.legend(loc='best');\n",
    "pl.xlim((-0.005,0.045));"
   ]
  },
  {
   "cell_type": "markdown",
   "metadata": {},
   "source": [
    "**Figure 8: Lift Coefficient versus Induced Drag Coefficient for Each Wing**\n",
    "\n",
    "Figure 8 shows the induced drag polar for each wing. Because each wing's lift curve is the same, the drag polar for each wing has the same bell curvature. The difference is that for there is a different $C_{D,i}$ value for each $C_L$ value. In the plot, this can be seen as horizontal offsets at the beginnings and ends of the curves. From Anderson's analysis on a general lift distribution, Eq. 5.61 and 5.62 shows that the induced drag coefficient will be different for the differently shaped wings due to a span effiency factor. From Figure 5.20 of Anderson's Fundamentals, this tapered wing actually has a low span efficiency factor because of the low taper ratio $(c_t/c_r)$ and high aspect ratio. The tapered wing can be conpared to the rectangular wing. For this tapered wing, the taper ratio is roughly 0 while the rectangular wing's taper ratio is 1. From the figure, at any of the aspect ratio, the span efficiency factor is higher for a taper ratio of 1 than for a taper ratio of 0, matching the results of the plot. In addition, the elliptic wing is furthest to the left because it has the lowest induced drag, matching the results where an elliptic wing has the highest span efficiency factor."
   ]
  },
  {
   "cell_type": "markdown",
   "metadata": {},
   "source": [
    "Since the lift coefficients for each of the wings are the same, only the drag has to be compared to determine the wing with the best performance. So because the elliptic wing has the lowest induced drag, it is the best performing wing."
   ]
  },
  {
   "cell_type": "code",
   "execution_count": 48,
   "metadata": {
    "collapsed": false
   },
   "outputs": [],
   "source": [
    "CL_cruise = Weight/(0.5*rho_inf*S*Vinf**2)\n",
    "alpha_cruise = np.interp(CL_cruise,CL_tapered,alpha_range)"
   ]
  },
  {
   "cell_type": "code",
   "execution_count": 50,
   "metadata": {
    "collapsed": false
   },
   "outputs": [
    {
     "name": "stdout",
     "output_type": "stream",
     "text": [
      "Angle of attack at cruise from current results: 1.0647211621658688\n"
     ]
    }
   ],
   "source": [
    "print('Angle of attack at cruise from current results:', alpha_cruise)"
   ]
  },
  {
   "cell_type": "markdown",
   "metadata": {},
   "source": [
    "My $\\alpha_{cruise}$ from Project 5 is 0.5737 degrees, compared to 1.0647 degrees from the Lifting Line method.\n",
    "\n",
    "The angle of attack at cruise from the lifting line method is lower than the angle of attack at cruise from Project 5. This is expected because the lifting line method incorpates the changes to lift due to downwash into the lift curve. For a higher angle of attack at cruise, the lift curve must have shifted down due to less lift being generated. This effect only exists for a finite wing. In Project 5, an airfoil's lift curve is used, which is only good for approximating an infinite wing. For an infinite wing, there is no downwash to change the lift curve. As a result, Project 5's angle of attack at cruise is less than  the angle of attack obtained by the Lifting Line method."
   ]
  },
  {
   "cell_type": "markdown",
   "metadata": {},
   "source": [
    "---"
   ]
  },
  {
   "cell_type": "markdown",
   "metadata": {},
   "source": [
    "## Conclusion"
   ]
  },
  {
   "cell_type": "markdown",
   "metadata": {},
   "source": [
    "The results of the lifting-line method matches the general lift distribution analysis done by Anderson in the book. For any wing shape, this method can find the lift curve and induced drag on the wing at any angle of attack only if the lift coefficient data for the airfoil in the wing is available at the angles of attack of interest. Without the airfoil lift coefficient data, this method cannot be implemented. However, for a given wing shape of a certain aspect ratio, this method can be run just once in order to obtain the span efficiency factor. With the span efficiency factor, the induced drag for a given wing shape can be calculated using the lift curve of another wing shape with the same aspect ratio. In addition, the span efficiency factor can be an indicator of the performance of a wing since wings with the same aspect ratio will have the same lift curve. Overall, the nonlinear numerical lifting line method can be a very useful tool."
   ]
  }
 ],
 "metadata": {
  "kernelspec": {
   "display_name": "Python 3",
   "language": "python",
   "name": "python3"
  },
  "language_info": {
   "codemirror_mode": {
    "name": "ipython",
    "version": 3
   },
   "file_extension": ".py",
   "mimetype": "text/x-python",
   "name": "python",
   "nbconvert_exporter": "python",
   "pygments_lexer": "ipython3",
   "version": "3.4.3"
  }
 },
 "nbformat": 4,
 "nbformat_minor": 0
}
